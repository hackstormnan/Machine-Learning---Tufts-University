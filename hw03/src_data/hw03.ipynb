{
 "cells": [
  {
   "cell_type": "markdown",
   "metadata": {},
   "source": [
    "## HW03 Code\n",
    "\n",
    "\n",
    "You will complete the following notebook, as described in the PDF for Homework 03 (included in the download with the starter code).  You will submit:\n",
    "1. This notebook file, along with your COLLABORATORS.txt file, to the Gradescope link for code.\n",
    "2. A PDF of this notebook and all of its output, once it is completed, to the Gradescope link for the PDF.\n",
    "\n",
    "\n",
    "Please report any questions to the [class Piazza page](piazza.com/tufts/summer2021/cs135).\n",
    "\n",
    "### Import required libraries."
   ]
  },
  {
   "cell_type": "code",
   "execution_count": 1,
   "metadata": {},
   "outputs": [],
   "source": [
    "import os\n",
    "import numpy as np\n",
    "import pandas as pd\n",
    "\n",
    "import warnings\n",
    "\n",
    "import sklearn.linear_model\n",
    "import sklearn.metrics\n",
    "import sklearn.calibration\n",
    "\n",
    "from matplotlib import pyplot as plt\n",
    "import seaborn as sns\n",
    "%matplotlib inline\n",
    "plt.style.use('seaborn') # pretty matplotlib plots"
   ]
  },
  {
   "cell_type": "markdown",
   "metadata": {},
   "source": [
    "### Function for later use\n",
    "This function will compute and return a confusion matrix on data, given probabilistic predictions, and a threshold to use when converting probabilities to \"firm\" predictions.\n",
    "\n",
    "***Don't change this function.***"
   ]
  },
  {
   "cell_type": "code",
   "execution_count": 2,
   "metadata": {},
   "outputs": [],
   "source": [
    "def calc_confusion_matrix_for_threshold(ytrue_N, yproba1_N, thresh=0.5):\n",
    "    ''' Compute the confusion matrix for a given probabilistic classifier and threshold\n",
    "    \n",
    "    Args\n",
    "    ----\n",
    "    ytrue_N : 1D array of floats\n",
    "        Each entry represents the binary value (0 or 1) of 'true' label of one example\n",
    "        One entry per example in current dataset\n",
    "    yproba1_N : 1D array of floats\n",
    "        Each entry represents a probability (between 0 and 1) that correct label is positive (1)\n",
    "        One entry per example in current dataset\n",
    "        Needs to be same size as ytrue_N\n",
    "    thresh : float\n",
    "        Scalar threshold for converting probabilities into hard decisions\n",
    "        Calls an example \"positive\" if yproba1 >= thresh\n",
    "        Default value reflects a majority-classification approach (class is the one that gets\n",
    "        highest probability)\n",
    "\n",
    "    Returns\n",
    "    -------\n",
    "    cm_df : Pandas DataFrame\n",
    "        Can be printed like print(cm_df) to easily display results\n",
    "    '''\n",
    "    cm = sklearn.metrics.confusion_matrix(ytrue_N, yproba1_N >= thresh)\n",
    "    cm_df = pd.DataFrame(data=cm, columns=[0, 1], index=[0, 1])\n",
    "    cm_df.columns.name = 'Predicted'\n",
    "    cm_df.index.name = 'True'\n",
    "    return cm_df"
   ]
  },
  {
   "cell_type": "markdown",
   "metadata": {},
   "source": [
    "## Cancer-Risk Screening\n",
    "\n",
    "### 1: Compute true/false positives/negatives.\n",
    "\n",
    "Complete the following code."
   ]
  },
  {
   "cell_type": "code",
   "execution_count": 3,
   "metadata": {},
   "outputs": [],
   "source": [
    "def calc_TP_TN_FP_FN(ytrue_N, yhat_N):\n",
    "    '''\n",
    "    \n",
    "    Args\n",
    "    ----\n",
    "    ytrue_N : 1D array of floats\n",
    "        Each entry represents the binary value (0 or 1) of 'true' label of one example\n",
    "        One entry per example in current dataset\n",
    "    yhat_N : 1D array of floats\n",
    "        Each entry represents a predicted binary value (either 0 or 1).\n",
    "        One entry per example in current dataset.\n",
    "        Needs to be same size as ytrue_N.\n",
    "\n",
    "    Returns\n",
    "    -------\n",
    "    TP : int\n",
    "        Number of true positives\n",
    "    TN : int\n",
    "        Number of true negatives\n",
    "    FP : int\n",
    "        Number of false positives\n",
    "    FN : int\n",
    "        Number of false negatives\n",
    "    '''\n",
    "    TP = 0.0\n",
    "    TN = 0.0\n",
    "    FP = 0.0\n",
    "    FN = 0.0\n",
    "    \n",
    "    for i, j in zip(ytrue_N, yhat_N):\n",
    "        if (i == 1) & (j == 1):\n",
    "            TP += 1\n",
    "        elif (i == 0) & (j == 0):\n",
    "            TN += 1\n",
    "        elif (i == 0) & (j == 1):\n",
    "            FP += 1\n",
    "        else:\n",
    "            FN += 1\n",
    "    \n",
    "#     length = len(ytrue_N)\n",
    "#     TP /= length\n",
    "#     TN /= length\n",
    "#     FP /= length\n",
    "#     FN /= length\n",
    "    \n",
    "    return TP, TN, FP, FN"
   ]
  },
  {
   "cell_type": "markdown",
   "metadata": {},
   "source": [
    "#### Testing code\n",
    "The following four calls to the function above test your results.  ***Don't modify this.***"
   ]
  },
  {
   "cell_type": "code",
   "execution_count": 4,
   "metadata": {
    "scrolled": true
   },
   "outputs": [
    {
     "data": {
      "text/plain": [
       "(0.0, 0.0, 10.0, 0.0)"
      ]
     },
     "execution_count": 4,
     "metadata": {},
     "output_type": "execute_result"
    }
   ],
   "source": [
    "all0 = np.zeros(10)\n",
    "all1 = np.ones(10)\n",
    "calc_TP_TN_FP_FN(all0, all1)"
   ]
  },
  {
   "cell_type": "code",
   "execution_count": 5,
   "metadata": {},
   "outputs": [
    {
     "data": {
      "text/plain": [
       "(0.0, 0.0, 0.0, 10.0)"
      ]
     },
     "execution_count": 5,
     "metadata": {},
     "output_type": "execute_result"
    }
   ],
   "source": [
    "calc_TP_TN_FP_FN(all1, all0)"
   ]
  },
  {
   "cell_type": "code",
   "execution_count": 6,
   "metadata": {},
   "outputs": [
    {
     "data": {
      "text/plain": [
       "(10.0, 0.0, 0.0, 0.0)"
      ]
     },
     "execution_count": 6,
     "metadata": {},
     "output_type": "execute_result"
    }
   ],
   "source": [
    "calc_TP_TN_FP_FN(all1, all1)"
   ]
  },
  {
   "cell_type": "code",
   "execution_count": 7,
   "metadata": {},
   "outputs": [
    {
     "data": {
      "text/plain": [
       "(0.0, 10.0, 0.0, 0.0)"
      ]
     },
     "execution_count": 7,
     "metadata": {},
     "output_type": "execute_result"
    }
   ],
   "source": [
    "calc_TP_TN_FP_FN(all0, all0)"
   ]
  },
  {
   "cell_type": "markdown",
   "metadata": {},
   "source": [
    "### Load the dataset.\n",
    "\n",
    "The following should ***not*** be modified.  After it runs, the various arrays it creates will contain the 2- or 3-feature input datasets."
   ]
  },
  {
   "cell_type": "code",
   "execution_count": 8,
   "metadata": {},
   "outputs": [],
   "source": [
    "# Load the x-data and y-class arrays\n",
    "x_train = np.loadtxt('./data_cancer/x_train.csv', delimiter=',', skiprows=1)\n",
    "x_test = np.loadtxt('./data_cancer/x_test.csv', delimiter=',', skiprows=1)\n",
    "\n",
    "y_train = np.loadtxt('./data_cancer/y_train.csv', delimiter=',', skiprows=1)\n",
    "y_test = np.loadtxt('./data_cancer/y_test.csv', delimiter=',', skiprows=1)"
   ]
  },
  {
   "cell_type": "markdown",
   "metadata": {},
   "source": [
    "### 2: Compute the fraction of patients with cancer.\n",
    "\n",
    "Complete the following code.  Your solution needs to ***compute*** these values from the training and testing sets (i.e., don't simply hand-count and print the values)."
   ]
  },
  {
   "cell_type": "code",
   "execution_count": 9,
   "metadata": {},
   "outputs": [
    {
     "name": "stdout",
     "output_type": "stream",
     "text": [
      "Fraction of data that has_cancer on TRAIN: 0.140\n",
      "fraction of data that has_cancer on TEST : 0.139\n"
     ]
    }
   ],
   "source": [
    "print(\"Fraction of data that has_cancer on TRAIN: %.3f\"  % np.mean(y_train)) #TODO: modify these prints\n",
    "print(\"fraction of data that has_cancer on TEST : %.3f\" % np.mean(y_test))"
   ]
  },
  {
   "cell_type": "markdown",
   "metadata": {},
   "source": [
    "### 3: The predict-0-always baseline\n",
    "\n",
    "#### (a) Compute the accuracy of the always-0 classifier.\n",
    "\n",
    "Complete the code to compute and print the accuracy of the always-0 classifier on validation and test outputs."
   ]
  },
  {
   "cell_type": "code",
   "execution_count": 10,
   "metadata": {},
   "outputs": [
    {
     "name": "stdout",
     "output_type": "stream",
     "text": [
      "acc on TRAIN: 0.860\n",
      "acc on TEST : 0.861\n"
     ]
    }
   ],
   "source": [
    "print(\"acc on TRAIN: %.3f\" % (1-np.mean(y_train))) #TODO: modify these values\n",
    "print(\"acc on TEST : %.3f\" % (1-np.mean(y_test)))"
   ]
  },
  {
   "cell_type": "markdown",
   "metadata": {},
   "source": [
    "#### (b) Print a confusion matrix for the always-0 classifier.\n",
    "\n",
    "Add code below to generate a confusion matrix for the always-0 classifier on the test set."
   ]
  },
  {
   "cell_type": "code",
   "execution_count": 11,
   "metadata": {},
   "outputs": [
    {
     "data": {
      "text/html": [
       "<div>\n",
       "<style scoped>\n",
       "    .dataframe tbody tr th:only-of-type {\n",
       "        vertical-align: middle;\n",
       "    }\n",
       "\n",
       "    .dataframe tbody tr th {\n",
       "        vertical-align: top;\n",
       "    }\n",
       "\n",
       "    .dataframe thead th {\n",
       "        text-align: right;\n",
       "    }\n",
       "</style>\n",
       "<table border=\"1\" class=\"dataframe\">\n",
       "  <thead>\n",
       "    <tr style=\"text-align: right;\">\n",
       "      <th>Predicted</th>\n",
       "      <th>0</th>\n",
       "      <th>1</th>\n",
       "    </tr>\n",
       "    <tr>\n",
       "      <th>True</th>\n",
       "      <th></th>\n",
       "      <th></th>\n",
       "    </tr>\n",
       "  </thead>\n",
       "  <tbody>\n",
       "    <tr>\n",
       "      <th>0</th>\n",
       "      <td>155</td>\n",
       "      <td>0</td>\n",
       "    </tr>\n",
       "    <tr>\n",
       "      <th>1</th>\n",
       "      <td>25</td>\n",
       "      <td>0</td>\n",
       "    </tr>\n",
       "  </tbody>\n",
       "</table>\n",
       "</div>"
      ],
      "text/plain": [
       "Predicted    0  1\n",
       "True             \n",
       "0          155  0\n",
       "1           25  0"
      ]
     },
     "execution_count": 11,
     "metadata": {},
     "output_type": "execute_result"
    }
   ],
   "source": [
    "# TODO: call print(calc_confusion_matrix_for_threshold(...))\n",
    "calc_confusion_matrix_for_threshold(y_test, np.zeros(len(y_test)))"
   ]
  },
  {
   "cell_type": "markdown",
   "metadata": {},
   "source": [
    "#### (c) Reflect on the accuracy of the always-0 classifier.\n",
    "\n",
    "**Answer**: Based on the observation, the accuracy is fine, and we can know there is 155 true negative, which is good. However, there is still 25 false negative, which means that there are 25 patients have the cancer, but the model did not find it, which means that they may miss the chance to do the biopsies. This is terrible, which is why we cannot use it on the task. "
   ]
  },
  {
   "cell_type": "markdown",
   "metadata": {},
   "source": [
    "#### (d) Analyze the various costs of using the always-0 classifier.\n",
    "\n",
    "\n",
    "**Answer**: Using always-0 classifier, the model just have too many false negative, which means that too many people will miss the treatment.\n",
    "We rather have false positive than the false negative. This is because for false positive, we can let more healthy people to get treatment, which can cause less harm. In this task, using always-0 calssifier can delay patients' time for treatment, also will make the patients cost more for their illness. "
   ]
  },
  {
   "cell_type": "markdown",
   "metadata": {},
   "source": [
    "### 4: Basic Perceptron Models\n",
    "\n",
    "#### (a) Create a basic `Perceptron` classifier\n",
    "\n",
    "Fit a perceptron to the training data.  Print out accuracy on this data, as well as on testing data.  Print out a confusion matrix on the testing data."
   ]
  },
  {
   "cell_type": "code",
   "execution_count": 12,
   "metadata": {},
   "outputs": [
    {
     "name": "stdout",
     "output_type": "stream",
     "text": [
      "acc on TRAIN: 0.402\n",
      "acc on TEST : 0.494\n",
      "Predicted   0   1\n",
      "True             \n",
      "0          64  91\n",
      "1           0  25\n"
     ]
    }
   ],
   "source": [
    "import numpy as np\n",
    "from sklearn.preprocessing import MinMaxScaler\n",
    "from sklearn.metrics import accuracy_score\n",
    "from sklearn.linear_model import Perceptron\n",
    "\n",
    "\n",
    "scaler = MinMaxScaler()\n",
    "\n",
    "x_train_transform = scaler.fit_transform(x_train)\n",
    "x_test_transform = scaler.transform(x_test)\n",
    "perceptron = Perceptron()\n",
    "perceptron.fit(x_train_transform, y_train)\n",
    "\n",
    "\n",
    "y_train_predict = perceptron.predict(x_train_transform)\n",
    "y_test_predict = perceptron.predict(x_test_transform)\n",
    "\n",
    "\n",
    "print(\"acc on TRAIN: %.3f\" % accuracy_score(y_train, y_train_predict)) #TODO: modify these values\n",
    "print(\"acc on TEST : %.3f\" % accuracy_score(y_test, y_test_predict))\n",
    "\n",
    "print(calc_confusion_matrix_for_threshold(y_test, y_test_predict))\n",
    "\n",
    "\n",
    "\n",
    "# TODO: call print(calc_confusion_matrix_for_threshold(...))"
   ]
  },
  {
   "cell_type": "markdown",
   "metadata": {},
   "source": [
    "#### (b) Compare the `Perceptron` to the always-0 classifier.\n",
    "\n",
    "**Answer**: \n",
    "Perceptron does not have the false negative, which means that we will not miss the treatment for the patients who have the illness. In addition, Perceptron have 91 false positive, which gives treatments to some patients who do not have the cancer.\n",
    "In comparision to the always-0 classifier, the Perceptron will not miss the patients who have the cancer."
   ]
  },
  {
   "cell_type": "markdown",
   "metadata": {},
   "source": [
    "#### (c) Generate a series of regularized perceptron models\n",
    "Each model will use a different `alpha` value, multiplying that by the L2 penalty.  You will record and plot the accuracy of each model on both training and test data."
   ]
  },
  {
   "cell_type": "code",
   "execution_count": 13,
   "metadata": {},
   "outputs": [],
   "source": [
    "import numpy as np\n",
    "from sklearn.preprocessing import MinMaxScaler\n",
    "from sklearn.metrics import accuracy_score\n",
    "from sklearn.linear_model import Perceptron\n",
    "\n",
    "train_accuracy_list = list()\n",
    "test_accuracy_list = list()\n",
    "perceptron = Perceptron()\n",
    "\n",
    "alphas = np.logspace(-5, 5, base=10, num=100)\n",
    "scaler = MinMaxScaler()\n",
    "x_train_transform = scaler.fit_transform(x_train)\n",
    "x_test_transform = scaler.transform(x_test)\n",
    "\n",
    "for element in alphas:\n",
    "    p = Perceptron(penalty=\"L2\", alpha=element)\n",
    "    p.fit(x_train_transform, y_train)\n",
    "\n",
    "    \n",
    "    train_accuracy_list.append(p.score(x_train_transform, y_train))\n",
    "    test_accuracy_list.append(p.score(x_test_transform, y_test))\n",
    "\n",
    "\n",
    "\n",
    "\n",
    "# TODO: create, fit models here and record accuracy of each"
   ]
  },
  {
   "cell_type": "markdown",
   "metadata": {},
   "source": [
    "##### Plot accuracy on train/test data across the different alpha values."
   ]
  },
  {
   "cell_type": "code",
   "execution_count": 14,
   "metadata": {},
   "outputs": [
    {
     "data": {
      "text/plain": [
       "Text(0, 0.5, 'accuracy')"
      ]
     },
     "execution_count": 14,
     "metadata": {},
     "output_type": "execute_result"
    },
    {
     "data": {
      "image/png": "[encoded data removed]",
      "text/plain": [
       "<Figure size 576x396 with 1 Axes>"
      ]
     },
     "metadata": {},
     "output_type": "display_data"
    }
   ],
   "source": [
    "# TODO make plot\n",
    "\n",
    "plt.plot(alphas, train_accuracy_list, label = 'train_accuracy_list')\n",
    "plt.plot(alphas, test_accuracy_list, label = 'test_accuracy_list')\n",
    "plt.xscale(\"log\")\n",
    "plt.legend()\n",
    "plt.xlabel(\"log_10(alpha)\")\n",
    "plt.ylabel(\"accuracy\")\n",
    "# TODO add legend, titles, etc.\n",
    "# plt.legend(...);"
   ]
  },
  {
   "cell_type": "markdown",
   "metadata": {},
   "source": [
    "#### (d) Discuss what the plot is showing you.\n",
    "\n",
    "**Answer**: For this time, we actually care little about the accuracy because it is very noisy unlike the last time. Last time's graph, the error seems very stable and it is changing very slowly. So we can accurately predict which strength is the best. However, this time's garph, it changes really fast, like at 10 to the -2, the accuracy is only 0.2, which makes us doubt about the result. Furthermore, we can just see the accuracy, and it is 0.9 at most of the time. However, even the all-0 classfier can have a 0.9 accuracy. So what we care more will be how about true negative or false positive, which the graph this time did not provide. \n",
    "    In conclusion, the regularized perceptron model is not so useful. "
   ]
  },
  {
   "cell_type": "markdown",
   "metadata": {},
   "source": [
    "### 5: Decision functions and probabilistic predictions\n",
    "\n",
    "#### (a) Create two new sets of predictions\n",
    "\n",
    "Fit `Perceptron` and `CalibratedClassifierCV` models to the data.  Use their predictions to generate ROC curves. "
   ]
  },
  {
   "cell_type": "code",
   "execution_count": 15,
   "metadata": {},
   "outputs": [],
   "source": [
    "# TODO: fit a Perceptron and generate its decision_function() over the test data.\n",
    "\n",
    "# TODO: Build a CalibratedClassifierCV, using a Perceptron as its base_estimator, \n",
    "#       and generate its probabilistic predictions over the test data."
   ]
  },
  {
   "cell_type": "code",
   "execution_count": 16,
   "metadata": {
    "scrolled": true
   },
   "outputs": [
    {
     "data": {
      "image/png": "[encoded data removed]",
      "text/plain": [
       "<Figure size 576x396 with 1 Axes>"
      ]
     },
     "metadata": {},
     "output_type": "display_data"
    }
   ],
   "source": [
    "# TODO something like: fpr, tpr, thr = sklearn.metrics.roc_curve(...)\n",
    "import numpy as np\n",
    "from sklearn.preprocessing import MinMaxScaler\n",
    "from sklearn.metrics import accuracy_score\n",
    "from sklearn.linear_model import Perceptron\n",
    "\n",
    "\n",
    "perceptron = Perceptron()\n",
    "perceptron.fit(x_train_transform, y_train)\n",
    "perceptron_decision = perceptron.decision_function(x_test_transform)\n",
    "\n",
    "\n",
    "calibrated = sklearn.calibration.CalibratedClassifierCV(base_estimator=perceptron, method='isotonic')\n",
    "calibrated.fit(x_train_transform, y_train)\n",
    "calibrated_proba = calibrated.predict_proba(x_test_transform)[:, 1]\n",
    "\n",
    "fpr, tpr, thresholds = sklearn.metrics.roc_curve(y_test, perceptron_decision)\n",
    "fpr1, tpr1, thresholds1 = sklearn.metrics.roc_curve(y_test, calibrated_proba)\n",
    "\n",
    "plt.plot(fpr, tpr, label='Decision function version')\n",
    "plt.plot(fpr1, tpr1, label='calibrated function version')\n",
    "\n",
    "\n",
    "plt.ylim([0, 1]);\n",
    "plt.xlabel(\"False Postive rate (FPR)\");\n",
    "plt.ylabel(\"True Postive rate (TPR)\");"
   ]
  },
  {
   "cell_type": "code",
   "execution_count": 17,
   "metadata": {},
   "outputs": [
    {
     "name": "stdout",
     "output_type": "stream",
     "text": [
      "AUC on TEST for Perceptron: 0.884\n",
      "AUC on TEST for probabilistic model: 0.886\n"
     ]
    }
   ],
   "source": [
    "print(\"AUC on TEST for Perceptron: %.3f\" % sklearn.metrics.roc_auc_score(y_test, perceptron_decision)) #TODO: modify these values\n",
    "print(\"AUC on TEST for probabilistic model: %.3f\" % sklearn.metrics.roc_auc_score(y_test, calibrated_proba))"
   ]
  },
  {
   "cell_type": "markdown",
   "metadata": {},
   "source": [
    "#### (b) Discuss the results above\n",
    "\n",
    "**Answer**: These two graphs are all increase their TPR as their FPR grows, and their trends looks very similar. \n",
    "we want the false positive rate as low as it can when the true positive rate becomes 1.\n",
    "Perceptron initially have a higher TRP than the CalibratedClassifierCV when they have the same FPR. However, then perceptron have a lower TRP than the CalibratedClassifierCV when they have the same FPR. Finally, when the TPR both reach to 1, CalibratedClassifierCV's FPR is 0.4 and Perceptron is around 0.5, which is their difference. \n",
    "Overall, I prefer the CalibratedClassifierCV because it finally have a low FPR when the TPR becomes , which is better for the patients to avoid them of suffering unneccessary treatment. "
   ]
  },
  {
   "cell_type": "markdown",
   "metadata": {},
   "source": [
    "#### (c) Compute model metrics for different probabilistic thresholds\n",
    "\n",
    "Complete the function that takes in a set of correct outputs, a matching set of probabilities generated by a classifier, and a threshold at which to set the positive decision probability, and returns a set of metrics if we use that threshold."
   ]
  },
  {
   "cell_type": "code",
   "execution_count": 18,
   "metadata": {},
   "outputs": [],
   "source": [
    "def calc_perf_metrics_for_threshold(ytrue_N, yproba1_N, thresh=0.5):\n",
    "    ''' Compute performance metrics for a given probabilistic classifier and threshold\n",
    "    Args\n",
    "    ----\n",
    "    ytrue_N : 1D array of floats\n",
    "        Each entry represents the binary value (0 or 1) of 'true' label of one example\n",
    "        One entry per example in current dataset\n",
    "    yproba1_N : 1D array of floats\n",
    "        Each entry represents a probability (between 0 and 1) that correct label is positive (1)\n",
    "        One entry per example in current dataset\n",
    "        Needs to be same size as ytrue_N\n",
    "    thresh : float\n",
    "        Scalar threshold for converting probabilities into hard decisions\n",
    "        Calls an example \"positive\" if yproba1 >= thresh\n",
    "        Default value reflects a majority-classification approach (class is the one that gets\n",
    "        highest probability)\n",
    "\n",
    "    Returns\n",
    "    -------\n",
    "    acc : accuracy of predictions\n",
    "    tpr : true positive rate of predictions\n",
    "    tnr : true negative rate of predictions\n",
    "    ppv : positive predictive value of predictions\n",
    "    npv : negative predictive value of predictions\n",
    "    '''\n",
    "\n",
    "    # TODO: fix this\n",
    "    \n",
    "    tp, tn, fp, fn = calc_TP_TN_FP_FN(ytrue_N, yproba1_N >= thresh)\n",
    "    total = tp + tn + fp + fn\n",
    "    \n",
    "    acc = (tp + tn) / total\n",
    "    tpr = tp / (tp + fn) if (tp + fn) > 0 else 0\n",
    "    tnr = tn / (tn + fp) if (tn + fp) > 0 else 0\n",
    "    ppv = tp / (tp + fp) if (tp + fp) > 0 else 0\n",
    "    npv = tn / (tn + fn) if (tn + fn) > 0 else 0\n",
    "    \n",
    "    return acc, tpr, tnr, ppv, npv\n",
    "\n",
    "# You can use this function later to make printing results easier; don't change it.\n",
    "def print_perf_metrics_for_threshold(ytrue_N, yproba1_N, thresh=0.5):\n",
    "    ''' Pretty print perf. metrics for a given probabilistic classifier and threshold\n",
    "    '''\n",
    "    acc, tpr, tnr, ppv, npv = calc_perf_metrics_for_threshold(ytrue_N, yproba1_N, thresh)\n",
    "    \n",
    "    ## Pretty print the results\n",
    "    print(\"%.3f ACC\" % acc)\n",
    "    print(\"%.3f TPR\" % tpr)\n",
    "    print(\"%.3f TNR\" % tnr)\n",
    "    print(\"%.3f PPV\" % ppv)\n",
    "    print(\"%.3f NPV\" % npv)"
   ]
  },
  {
   "cell_type": "markdown",
   "metadata": {},
   "source": [
    "#### (d) Compare the probabilistic classifier across multiple decision thresholds\n",
    "\n",
    "Try a range of thresholds for classifying data into the positive class (1).  For each threshold, compute the true postive rate (TPR) and positive predictive value (PPV).  Record the best value of each metric, along with the threshold that achieves it, and the *other* metric at that threshold."
   ]
  },
  {
   "cell_type": "code",
   "execution_count": 19,
   "metadata": {},
   "outputs": [],
   "source": [
    "# TODO: test different thresholds to compute these values\n",
    "thresholds = np.linspace(0, 1.001, 51)\n",
    "\n",
    "best_TPR = 0\n",
    "best_PPV = 0\n",
    "for t in thresholds:\n",
    "    acc, tpr, tnr, ppv, npv = calc_perf_metrics_for_threshold(y_test, calibrated_proba, t)\n",
    "    \n",
    "    if best_TPR < tpr:\n",
    "        best_TPR = tpr\n",
    "        best_PPV_for_best_TPR = ppv\n",
    "        best_TPR_threshold = t\n",
    "    elif best_TPR == tpr and best_PPV_for_best_TPR < ppv:\n",
    "        best_PPV_for_best_TPR = ppv\n",
    "        best_TPR_threshold = t\n",
    "            \n",
    "\n",
    "    if best_PPV < ppv:\n",
    "        best_PPV = ppv\n",
    "        best_TPR_for_best_PPV = tpr\n",
    "        best_PPV_threshold = t\n",
    "    elif best_PPV == ppv and best_TPR_for_best_PPV < tpr:\n",
    "        best_PPV_for_best_TPR = ppv\n",
    "        best_TPR_threshold = t\n"
   ]
  },
  {
   "cell_type": "code",
   "execution_count": 20,
   "metadata": {},
   "outputs": [
    {
     "name": "stdout",
     "output_type": "stream",
     "text": [
      "TPR threshold: 0.0601 => TPR: 1.0000; PPV: 0.2778\n",
      "PPV threshold: 0.6206 => PPV: 1.0000; TPR: 0.2000\n"
     ]
    }
   ],
   "source": [
    "print(\"TPR threshold: %.4f => TPR: %.4f; PPV: %.4f\" % (best_TPR_threshold, best_TPR, best_PPV_for_best_TPR))\n",
    "print(\"PPV threshold: %.4f => PPV: %.4f; TPR: %.4f\" % (best_PPV_threshold, best_PPV, best_TPR_for_best_PPV))"
   ]
  },
  {
   "cell_type": "markdown",
   "metadata": {},
   "source": [
    "#### (e) Exploring diffrerent thresholds\n",
    "\n",
    "#### (i) Using default 0.5 threshold. \n",
    "\n",
    "Generate confusion matrix and metrics for probabilistic classifier, using threshold 0.5."
   ]
  },
  {
   "cell_type": "code",
   "execution_count": 21,
   "metadata": {},
   "outputs": [
    {
     "name": "stdout",
     "output_type": "stream",
     "text": [
      "ON THE TEST SET:\n",
      "Chosen best threshold = 0.5000\n",
      "\n",
      "Predicted    0   1\n",
      "True              \n",
      "0          150   5\n",
      "1           15  10\n",
      "\n",
      "0.889 ACC\n",
      "0.400 TPR\n",
      "0.968 TNR\n",
      "0.667 PPV\n",
      "0.909 NPV\n"
     ]
    }
   ],
   "source": [
    "best_thr = 0.5\n",
    "\n",
    "\n",
    "print(\"ON THE TEST SET:\")\n",
    "print(\"Chosen best threshold = %.4f\" % best_thr)\n",
    "print(\"\")\n",
    "\n",
    "print(calc_confusion_matrix_for_threshold(y_test, calibrated_proba, best_thr))\n",
    "print(\"\")\n",
    "print_perf_metrics_for_threshold(y_test, calibrated_proba, best_thr)"
   ]
  },
  {
   "cell_type": "markdown",
   "metadata": {},
   "source": [
    "#### (ii) Using threshold with highest TPR. \n",
    "\n",
    "Generate confusion matrix and metrics for probabilistic classifier, using threshold that maximizes TPR."
   ]
  },
  {
   "cell_type": "code",
   "execution_count": 22,
   "metadata": {},
   "outputs": [
    {
     "name": "stdout",
     "output_type": "stream",
     "text": [
      "ON THE TEST SET:\n",
      "Chosen best threshold = 0.0601\n",
      "\n",
      "Predicted   0   1\n",
      "True             \n",
      "0          90  65\n",
      "1           0  25\n",
      "\n",
      "0.639 ACC\n",
      "1.000 TPR\n",
      "0.581 TNR\n",
      "0.278 PPV\n",
      "1.000 NPV\n"
     ]
    }
   ],
   "source": [
    "best_thr = best_TPR_threshold\n",
    "print(\"ON THE TEST SET:\")\n",
    "print(\"Chosen best threshold = %.4f\" % best_thr)\n",
    "print(\"\")\n",
    "\n",
    "print(calc_confusion_matrix_for_threshold(y_test, calibrated_proba, best_thr))\n",
    "print(\"\")\n",
    "print_perf_metrics_for_threshold(y_test, calibrated_proba, best_thr)"
   ]
  },
  {
   "cell_type": "markdown",
   "metadata": {},
   "source": [
    "#### (iii) Using threshold with highest PPV. \n",
    "\n",
    "Generate confusion matrix and metrics for probabilistic classifier, using threshold that maximizes PPV."
   ]
  },
  {
   "cell_type": "code",
   "execution_count": 23,
   "metadata": {},
   "outputs": [
    {
     "name": "stdout",
     "output_type": "stream",
     "text": [
      "ON THE TEST SET:\n",
      "Chosen best threshold = 0.6206\n",
      "\n",
      "Predicted    0  1\n",
      "True             \n",
      "0          155  0\n",
      "1           20  5\n",
      "\n",
      "0.889 ACC\n",
      "0.200 TPR\n",
      "1.000 TNR\n",
      "1.000 PPV\n",
      "0.886 NPV\n"
     ]
    }
   ],
   "source": [
    "best_thr = best_PPV_threshold\n",
    "print(\"ON THE TEST SET:\")\n",
    "print(\"Chosen best threshold = %.4f\" % best_thr)\n",
    "print(\"\")\n",
    "\n",
    "print(calc_confusion_matrix_for_threshold(y_test, calibrated_proba, best_thr))\n",
    "print(\"\")\n",
    "print_perf_metrics_for_threshold(y_test, calibrated_proba, best_thr)"
   ]
  },
  {
   "cell_type": "markdown",
   "metadata": {},
   "source": [
    "#### (iv) Compare the confusion matrices from (a)–(c) to analyze the different thresholds.\n",
    "\n",
    "**Answer**: at (a) when we set threshold to be 0.5, the true negative is relative high, and the false positive and false negative is relatively low. Therefore, it is overall have a average performance. \n",
    "\n",
    "at (b) when we use the best_TPR_threshold, the false negative is 0, which is good at this situation. false negative means that we predict this person does not have cancer, however, this person has a cancer, which means that this person will miss the treatment. In the case, the false negative is 0, which is good.\n",
    "\n",
    "at (c) when we use the best_PPV_threshold, the false positive is 0. this means that we predict this guy has cancer, however, this person is healthy. This model is not fit for checking the illness because it hass false negative, which may let ill patients miss the treatment. However, this value of threshold may be used in the situation that we can make sure that we can miss some people, however, the people we treat must be a subset of our target people. For example, a star wants to give his fans signatures. Maybe some fan cannot receive the signature, however, this star will not send his signature to a person who is not his fan. "
   ]
  },
  {
   "cell_type": "code",
   "execution_count": null,
   "metadata": {},
   "outputs": [],
   "source": [
    "\n"
   ]
  }
 ],
 "metadata": {
  "kernelspec": {
   "display_name": "Python 3 (ipykernel)",
   "language": "python",
   "name": "python3"
  },
  "language_info": {
   "codemirror_mode": {
    "name": "ipython",
    "version": 3
   },
   "file_extension": ".py",
   "mimetype": "text/x-python",
   "name": "python",
   "nbconvert_exporter": "python",
   "pygments_lexer": "ipython3",
   "version": "3.9.12"
  }
 },
 "nbformat": 4,
 "nbformat_minor": 2
}
